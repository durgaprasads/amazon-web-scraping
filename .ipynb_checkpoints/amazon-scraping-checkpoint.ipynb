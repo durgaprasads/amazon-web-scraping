{
 "cells": [
  {
   "cell_type": "code",
   "execution_count": 20,
   "id": "b542dc64-2761-497c-a758-00b01b5ec2f8",
   "metadata": {},
   "outputs": [],
   "source": [
    "# importing the libraries\n",
    "import urllib.request    \n",
    "from time import sleep\n",
    "from random import uniform\n",
    "import re,time\n",
    "from bs4 import BeautifulSoup as bs\n",
    "from selenium import webdriver\n",
    "import pandas as pd"
   ]
  },
  {
   "cell_type": "code",
   "execution_count": 21,
   "id": "dab3acff-681d-4b6b-8a33-2ebee5a4f345",
   "metadata": {},
   "outputs": [],
   "source": [
    "url='https://www.amazon.com/Dell-Latitude-E5470-Certified-Refurbished/product-reviews/B07D5N1PFY/ref=cm_cr_dp_d_show_all_btm?ie=UTF8&reviewerType=all_reviews'"
   ]
  },
  {
   "cell_type": "code",
   "execution_count": 22,
   "id": "99474067-d155-4006-ab9d-ce5573fad096",
   "metadata": {},
   "outputs": [
    {
     "name": "stderr",
     "output_type": "stream",
     "text": [
      "/var/folders/rw/b3q2sx811696d279pv96sgt00000gn/T/ipykernel_8090/2252169254.py:2: DeprecationWarning: executable_path has been deprecated, please pass in a Service object\n",
      "  driver = webdriver.Chrome('/Users/dp/Library/CloudStorage/OneDrive-UniversityofSouthFlorida/2022-fall/text-analytics/week3/webscraping/chromedriver')\n"
     ]
    }
   ],
   "source": [
    "#!pip install requests_html\n",
    "driver = webdriver.Chrome('/webscraping/chromedriver')\n",
    "def getHtmlSource(url):\n",
    "    driver.get(url)\n",
    "    page_source = driver.page_source\n",
    "    return bs(page_source,'lxml') #html parser"
   ]
  },
  {
   "cell_type": "code",
   "execution_count": 23,
   "id": "5e517669-b71b-49d3-89f6-3f07c4e7c06d",
   "metadata": {},
   "outputs": [
    {
     "data": {
      "text/html": [
       "<div>\n",
       "<style scoped>\n",
       "    .dataframe tbody tr th:only-of-type {\n",
       "        vertical-align: middle;\n",
       "    }\n",
       "\n",
       "    .dataframe tbody tr th {\n",
       "        vertical-align: top;\n",
       "    }\n",
       "\n",
       "    .dataframe thead th {\n",
       "        text-align: right;\n",
       "    }\n",
       "</style>\n",
       "<table border=\"1\" class=\"dataframe\">\n",
       "  <thead>\n",
       "    <tr style=\"text-align: right;\">\n",
       "      <th></th>\n",
       "      <th>id</th>\n",
       "      <th>title</th>\n",
       "      <th>date</th>\n",
       "      <th>rating</th>\n",
       "      <th>helpful</th>\n",
       "      <th>review</th>\n",
       "    </tr>\n",
       "  </thead>\n",
       "  <tbody>\n",
       "  </tbody>\n",
       "</table>\n",
       "</div>"
      ],
      "text/plain": [
       "Empty DataFrame\n",
       "Columns: [id, title, date, rating, helpful, review]\n",
       "Index: []"
      ]
     },
     "execution_count": 23,
     "metadata": {},
     "output_type": "execute_result"
    }
   ],
   "source": [
    "df = pd.DataFrame(columns=['id','title','date','rating','helpful','review'])\n",
    "df.head()"
   ]
  },
  {
   "cell_type": "code",
   "execution_count": 28,
   "id": "7dd62a9f-68b1-4673-81f8-866bf54b3d40",
   "metadata": {},
   "outputs": [],
   "source": [
    "def getReviews(url,tag,filtertype,class_filter,reviews_list):\n",
    "    if len(reviews_list)>=4:\n",
    "        print(\"max length reached\")\n",
    "        print(url)\n",
    "        return reviews_list\n",
    "    driver.get(url)\n",
    "    products_page_source = driver.page_source\n",
    "    products_html_source = bs(products_page_source,'lxml') #html parserpage_source = driver.page_source\n",
    "    driver.execute_script(\"window.scrollTo(0, document.body.scrollHeight);\")\n",
    "    time.sleep(5)\n",
    "    div_tags = products_html_source.find_all('div', attrs={'class':'a-section review aok-relative'})\n",
    "    for div in div_tags:\n",
    "        div_id=div['id']\n",
    "        try:\n",
    "            for child in div:\n",
    "                if child.find('span', attrs={'class': 'reviews-loading'}):\n",
    "                    break\n",
    "                title=child.find('a', attrs={'data-hook':'review-title'}).span.text\n",
    "                date=child.find('span', attrs={'data-hook':'review-date'}).text\n",
    "                rating=child.find('i', attrs={'data-hook':'review-star-rating'}).span.text\n",
    "                helpful=child.find('span', attrs={'data-hook':'helpful-vote-statement'}).text\n",
    "                review=child.find('span', attrs={'class':'a-size-base review-text review-text-content'}).span.text\n",
    "                new_row = {'id':div_id, 'title':title, 'date':date, 'rating':rating, 'helpful':helpful, 'review':review}\n",
    "                reviews_list.append(new_row)\n",
    "        except:\n",
    "            continue\n",
    "    next_page=products_html_source.find_all('li', attrs={'class':'a-last'})\n",
    "    #print(\"next_page\",next_page)\n",
    "    if len(next_page)>0:\n",
    "        try:\n",
    "            a=str(next_page[0])\n",
    "            a=a[a.index('href=\"')+6:a.index('\">Next page')]\n",
    "            url= \"https://amazon.com\"+a.replace(\"amp;\",\"\")\n",
    "            getReviews(url,'div','class','a-section review aok-relative',reviews_list)\n",
    "        except:\n",
    "            return reviews_list\n",
    "    else:\n",
    "        print('len of nextpage not zero')\n",
    "        return  reviews_list     "
   ]
  },
  {
   "cell_type": "code",
   "execution_count": null,
   "id": "df47cfd3-560c-4e10-a289-a1b6ed5950a0",
   "metadata": {},
   "outputs": [],
   "source": [
    "reviews_list=[]\n",
    "getReviews(url,'div','class','a-section review aok-relative',reviews_list)"
   ]
  },
  {
   "cell_type": "code",
   "execution_count": 33,
   "id": "256ddc76-e03b-4419-813b-31428e551daa",
   "metadata": {},
   "outputs": [
    {
     "data": {
      "text/plain": [
       "[{'id': 'R205AWG8UMOSD6',\n",
       "  'title': 'It will do.',\n",
       "  'date': 'Reviewed in the United States 🇺🇸 on September 23, 2022',\n",
       "  'rating': '3.0 out of 5 stars',\n",
       "  'helpful': '6 people found this helpful',\n",
       "  'review': \"I bought this for school and I just hope I don't burn my house down with it. The cord and brick get very hot. I actually burnt my hand picking it up. Not sure if the touch screen is a thing or not, doesn't seem to be. And the battery life is short and unpredictable. Other than that it's fine. I'm not going to be buying from this store again. The payment process was a mess and shipping kept getting delayed. Then for some reason they sent it from Florida, to New York, only to come back down to Tennessee. Took forever and I needed it for the beginning of school. All in all I'd just have to say don't do it.\"},\n",
       " {'id': 'R2OA7GIJL752HW',\n",
       "  'title': 'Battery died within a few hours',\n",
       "  'date': 'Reviewed in the United States 🇺🇸 on November 10, 2022',\n",
       "  'rating': '3.0 out of 5 stars',\n",
       "  'helpful': 'One person found this helpful',\n",
       "  'review': 'I was only able to use this laptop for a few hours until the internal battery started shorting and could not be easily replaced. Other laptops let you take their battery out but this company wants to increase electronic waste by forcing you to replace the entire laptop when the battery fails.At least Amazon makes it easy to return :)'},\n",
       " {'id': 'R3SK0LX96HGBBG',\n",
       "  'title': 'Reliable',\n",
       "  'date': 'Reviewed in the United States 🇺🇸 on August 3, 2022',\n",
       "  'rating': '4.0 out of 5 stars',\n",
       "  'helpful': '3 people found this helpful',\n",
       "  'review': 'Is a good working laptop. the battery only gives ~1.5 hrs of operation, but I understand that is a refurbished laptop that still has the original battery. I have already it with a longer life battery and is working satisfactorily so far.'},\n",
       " {'id': 'RWAIRZSRL6HH4',\n",
       "  'title': 'Great product',\n",
       "  'date': 'Reviewed in the United States 🇺🇸 on December 4, 2022',\n",
       "  'rating': '5.0 out of 5 stars',\n",
       "  'helpful': 'One person found this helpful',\n",
       "  'review': \"I did not encounter any problem on this laptop it's fast and good Performance makes me satisfied.\"},\n",
       " {'id': 'RDPCSUYVYFZPT',\n",
       "  'title': 'It is what it is..',\n",
       "  'date': 'Reviewed in the United States 🇺🇸 on December 2, 2022',\n",
       "  'rating': '5.0 out of 5 stars',\n",
       "  'helpful': 'One person found this helpful',\n",
       "  'review': \"For the pricepoint and just doing your school papers or doing office work...it's a great little machine...\"}]"
      ]
     },
     "execution_count": 33,
     "metadata": {},
     "output_type": "execute_result"
    }
   ],
   "source": [
    "reviews_list"
   ]
  },
  {
   "cell_type": "code",
   "execution_count": null,
   "id": "d0b95fac-46aa-494e-8a97-2d0a412db0c9",
   "metadata": {},
   "outputs": [],
   "source": [
    "df = pd.DataFrame(reviews_list,columns=['id','title','date','rating','helpful','review'])\n",
    "df.to_csv(\"sample.csv\")"
   ]
  }
 ],
 "metadata": {
  "kernelspec": {
   "display_name": "Python 3 (ipykernel)",
   "language": "python",
   "name": "python3"
  },
  "language_info": {
   "codemirror_mode": {
    "name": "ipython",
    "version": 3
   },
   "file_extension": ".py",
   "mimetype": "text/x-python",
   "name": "python",
   "nbconvert_exporter": "python",
   "pygments_lexer": "ipython3",
   "version": "3.9.7"
  }
 },
 "nbformat": 4,
 "nbformat_minor": 5
}
